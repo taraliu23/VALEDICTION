{
 "cells": [
  {
   "cell_type": "code",
   "execution_count": 30,
   "metadata": {},
   "outputs": [],
   "source": [
    "import pandas as pd\n",
    "\n",
    "df = pd.read_csv('../data/raw/WorkingHours.csv')"
   ]
  },
  {
   "cell_type": "code",
   "execution_count": 31,
   "metadata": {},
   "outputs": [
    {
     "name": "stdout",
     "output_type": "stream",
     "text": [
      "<class 'pandas.core.frame.DataFrame'>\n",
      "RangeIndex: 1629 entries, 0 to 1628\n",
      "Data columns (total 10 columns):\n",
      " #   Column                 Non-Null Count  Dtype  \n",
      "---  ------                 --------------  -----  \n",
      " 0   Day                    1629 non-null   object \n",
      " 1   Start                  1628 non-null   object \n",
      " 2   End                    1628 non-null   object \n",
      " 3   Work unit description  325 non-null    object \n",
      " 4   Work unit details      9 non-null      object \n",
      " 5   Duration               1629 non-null   object \n",
      " 6   Task                   1628 non-null   object \n",
      " 7   Tags                   29 non-null     object \n",
      " 8   Task details           0 non-null      float64\n",
      " 9   Unnamed: 9             0 non-null      float64\n",
      "dtypes: float64(2), object(8)\n",
      "memory usage: 127.4+ KB\n"
     ]
    }
   ],
   "source": [
    "df.info()"
   ]
  },
  {
   "cell_type": "code",
   "execution_count": 33,
   "metadata": {},
   "outputs": [
    {
     "data": {
      "text/html": [
       "<div>\n",
       "<style scoped>\n",
       "    .dataframe tbody tr th:only-of-type {\n",
       "        vertical-align: middle;\n",
       "    }\n",
       "\n",
       "    .dataframe tbody tr th {\n",
       "        vertical-align: top;\n",
       "    }\n",
       "\n",
       "    .dataframe thead th {\n",
       "        text-align: right;\n",
       "    }\n",
       "</style>\n",
       "<table border=\"1\" class=\"dataframe\">\n",
       "  <thead>\n",
       "    <tr style=\"text-align: right;\">\n",
       "      <th></th>\n",
       "      <th>Day</th>\n",
       "      <th>Start</th>\n",
       "      <th>End</th>\n",
       "      <th>Work unit description</th>\n",
       "      <th>Work unit details</th>\n",
       "      <th>Duration</th>\n",
       "      <th>Task</th>\n",
       "      <th>Tags</th>\n",
       "      <th>Task details</th>\n",
       "      <th>Unnamed: 9</th>\n",
       "    </tr>\n",
       "  </thead>\n",
       "  <tbody>\n",
       "    <tr>\n",
       "      <th>0</th>\n",
       "      <td>2021/11/3</td>\n",
       "      <td>10:23 AM</td>\n",
       "      <td>11:23 AM</td>\n",
       "      <td>托福阅读改错</td>\n",
       "      <td>NaN</td>\n",
       "      <td>60 min</td>\n",
       "      <td>TOEFL</td>\n",
       "      <td>NaN</td>\n",
       "      <td>NaN</td>\n",
       "      <td>NaN</td>\n",
       "    </tr>\n",
       "    <tr>\n",
       "      <th>1</th>\n",
       "      <td>2021/11/4</td>\n",
       "      <td>12:47 PM</td>\n",
       "      <td>1:11 PM</td>\n",
       "      <td>应付workshop</td>\n",
       "      <td>NaN</td>\n",
       "      <td>24 min</td>\n",
       "      <td>Homework</td>\n",
       "      <td>NaN</td>\n",
       "      <td>NaN</td>\n",
       "      <td>NaN</td>\n",
       "    </tr>\n",
       "    <tr>\n",
       "      <th>2</th>\n",
       "      <td>2021/11/4</td>\n",
       "      <td>1:28 PM</td>\n",
       "      <td>10:52 PM</td>\n",
       "      <td>应付workshop</td>\n",
       "      <td>NaN</td>\n",
       "      <td>455 min</td>\n",
       "      <td>Homework</td>\n",
       "      <td>NaN</td>\n",
       "      <td>NaN</td>\n",
       "      <td>NaN</td>\n",
       "    </tr>\n",
       "    <tr>\n",
       "      <th>3</th>\n",
       "      <td>2021/11/5</td>\n",
       "      <td>7:51 AM</td>\n",
       "      <td>10:21 AM</td>\n",
       "      <td>应付work</td>\n",
       "      <td>NaN</td>\n",
       "      <td>150 min</td>\n",
       "      <td>Homework</td>\n",
       "      <td>NaN</td>\n",
       "      <td>NaN</td>\n",
       "      <td>NaN</td>\n",
       "    </tr>\n",
       "    <tr>\n",
       "      <th>4</th>\n",
       "      <td>2021/11/5</td>\n",
       "      <td>10:21 AM</td>\n",
       "      <td>11:12 AM</td>\n",
       "      <td>应付work</td>\n",
       "      <td>NaN</td>\n",
       "      <td>51 min</td>\n",
       "      <td>Homework</td>\n",
       "      <td>NaN</td>\n",
       "      <td>NaN</td>\n",
       "      <td>NaN</td>\n",
       "    </tr>\n",
       "  </tbody>\n",
       "</table>\n",
       "</div>"
      ],
      "text/plain": [
       "         Day     Start       End Work unit description Work unit details   \n",
       "0  2021/11/3  10:23 AM  11:23 AM                托福阅读改错               NaN  \\\n",
       "1  2021/11/4  12:47 PM   1:11 PM            应付workshop               NaN   \n",
       "2  2021/11/4   1:28 PM  10:52 PM            应付workshop               NaN   \n",
       "3  2021/11/5   7:51 AM  10:21 AM                应付work               NaN   \n",
       "4  2021/11/5  10:21 AM  11:12 AM                应付work               NaN   \n",
       "\n",
       "  Duration      Task Tags  Task details  Unnamed: 9  \n",
       "0   60 min     TOEFL  NaN           NaN         NaN  \n",
       "1   24 min  Homework  NaN           NaN         NaN  \n",
       "2  455 min  Homework  NaN           NaN         NaN  \n",
       "3  150 min  Homework  NaN           NaN         NaN  \n",
       "4   51 min  Homework  NaN           NaN         NaN  "
      ]
     },
     "execution_count": 33,
     "metadata": {},
     "output_type": "execute_result"
    }
   ],
   "source": [
    "df.head(5)"
   ]
  },
  {
   "cell_type": "code",
   "execution_count": 34,
   "metadata": {},
   "outputs": [],
   "source": [
    "\n",
    "df = df.drop(columns=['Tags', 'Task details', 'Unnamed: 9', 'Work unit details'])"
   ]
  },
  {
   "cell_type": "code",
   "execution_count": 35,
   "metadata": {},
   "outputs": [],
   "source": [
    "df = df.dropna(subset=['Start'])\n"
   ]
  },
  {
   "cell_type": "code",
   "execution_count": 38,
   "metadata": {},
   "outputs": [],
   "source": [
    "df['Day'] = pd.to_datetime(df['Day'])\n",
    "df['Month'] = df['Day'].dt.to_period('M').astype(str)\n",
    "df['Year'] = df['Day'].dt.to_period('Y').astype(str)\n",
    "df['Weekday'] = df['Day'].dt.day_name()\n",
    "df['Duration'] = df['Duration'].str.replace(' min', '').astype(int)\n",
    "df['Task'] = df['Task'].fillna('Other')"
   ]
  },
  {
   "cell_type": "code",
   "execution_count": 36,
   "metadata": {},
   "outputs": [],
   "source": [
    "\n",
    "df['Task'] = df['Task'].replace('TOEFL', 'Application Exam Prepare')\n",
    "df['Task'] = df['Task'].replace('GRE', 'Application Exam Prepare')\n",
    "df['Task'] = df['Task'].replace('Exam Prepare', 'School Exam Prepare')\n",
    "df['Task'] = df['Task'].replace('APPLICATION', 'Graduate School Application')\n"
   ]
  },
  {
   "cell_type": "code",
   "execution_count": 37,
   "metadata": {},
   "outputs": [
    {
     "data": {
      "text/plain": [
       "array(['Application Exam Prepare', 'Homework', 'Thesis',\n",
       "       'Data Science & Programming', 'Read Books', 'Personal Growth',\n",
       "       'School Exam Prepare', 'Work', 'Graduate School Application',\n",
       "       'Career', 'Writing'], dtype=object)"
      ]
     },
     "execution_count": 37,
     "metadata": {},
     "output_type": "execute_result"
    }
   ],
   "source": [
    "df['Task'].unique()\n"
   ]
  },
  {
   "cell_type": "code",
   "execution_count": 39,
   "metadata": {},
   "outputs": [
    {
     "data": {
      "text/plain": [
       "array(['Application', 'School', 'Research', 'Data Science & Programming',\n",
       "       'Personal Growth', 'Career'], dtype=object)"
      ]
     },
     "execution_count": 39,
     "metadata": {},
     "output_type": "execute_result"
    }
   ],
   "source": [
    "\n",
    "df['Task Category'] = 'Other'\n",
    "\n",
    "df.loc[df['Task'].isin(['Application Exam Prepare', 'Graduate School Application']), 'Task Category'] = 'Application'\n",
    "df.loc[df['Task'].isin(['School Exam Prepare', 'Homework']), 'Task Category'] = 'School'\n",
    "df.loc[df['Task'].isin(['Thesis']), 'Task Category'] = 'Research'\n",
    "df.loc[df['Task'].isin(['Writing', 'Personal Growth', 'Read Books']), 'Task Category'] = 'Personal Growth'\n",
    "df.loc[df['Task'].isin(['Data Science & Programming']), 'Task Category'] = 'Data Science & Programming'\n",
    "df.loc[df['Task'].isin(['Career','Work']), 'Task Category'] = 'Career'\n",
    "\n",
    "df['Task Category'].unique()"
   ]
  },
  {
   "cell_type": "code",
   "execution_count": 40,
   "metadata": {},
   "outputs": [
    {
     "data": {
      "text/plain": [
       "array([], dtype=object)"
      ]
     },
     "execution_count": 40,
     "metadata": {},
     "output_type": "execute_result"
    }
   ],
   "source": [
    "# check if there are any missing values in task category\n",
    "df[df['Task Category'] == 'Other']['Task'].unique()"
   ]
  },
  {
   "cell_type": "code",
   "execution_count": 41,
   "metadata": {},
   "outputs": [],
   "source": [
    "\n",
    "df.to_csv('../data/processed/WorkingHours_cleaned.csv', index=False)"
   ]
  },
  {
   "cell_type": "code",
   "execution_count": 29,
   "metadata": {},
   "outputs": [
    {
     "data": {
      "text/html": [
       "<div>\n",
       "<style scoped>\n",
       "    .dataframe tbody tr th:only-of-type {\n",
       "        vertical-align: middle;\n",
       "    }\n",
       "\n",
       "    .dataframe tbody tr th {\n",
       "        vertical-align: top;\n",
       "    }\n",
       "\n",
       "    .dataframe thead th {\n",
       "        text-align: right;\n",
       "    }\n",
       "</style>\n",
       "<table border=\"1\" class=\"dataframe\">\n",
       "  <thead>\n",
       "    <tr style=\"text-align: right;\">\n",
       "      <th></th>\n",
       "      <th>Day</th>\n",
       "      <th>Start</th>\n",
       "      <th>End</th>\n",
       "      <th>Work unit description</th>\n",
       "      <th>Duration</th>\n",
       "      <th>Task</th>\n",
       "      <th>Month</th>\n",
       "      <th>Year</th>\n",
       "      <th>Weekday</th>\n",
       "      <th>Task Category</th>\n",
       "    </tr>\n",
       "  </thead>\n",
       "  <tbody>\n",
       "    <tr>\n",
       "      <th>0</th>\n",
       "      <td>2021-11-03</td>\n",
       "      <td>10:23 AM</td>\n",
       "      <td>11:23 AM</td>\n",
       "      <td>托福阅读改错</td>\n",
       "      <td>60</td>\n",
       "      <td>Application Exam Prepare</td>\n",
       "      <td>2021-11</td>\n",
       "      <td>2021</td>\n",
       "      <td>Wednesday</td>\n",
       "      <td>Application</td>\n",
       "    </tr>\n",
       "    <tr>\n",
       "      <th>1</th>\n",
       "      <td>2021-11-04</td>\n",
       "      <td>12:47 PM</td>\n",
       "      <td>1:11 PM</td>\n",
       "      <td>应付workshop</td>\n",
       "      <td>24</td>\n",
       "      <td>Homework</td>\n",
       "      <td>2021-11</td>\n",
       "      <td>2021</td>\n",
       "      <td>Thursday</td>\n",
       "      <td>School</td>\n",
       "    </tr>\n",
       "    <tr>\n",
       "      <th>2</th>\n",
       "      <td>2021-11-04</td>\n",
       "      <td>1:28 PM</td>\n",
       "      <td>10:52 PM</td>\n",
       "      <td>应付workshop</td>\n",
       "      <td>455</td>\n",
       "      <td>Homework</td>\n",
       "      <td>2021-11</td>\n",
       "      <td>2021</td>\n",
       "      <td>Thursday</td>\n",
       "      <td>School</td>\n",
       "    </tr>\n",
       "    <tr>\n",
       "      <th>3</th>\n",
       "      <td>2021-11-05</td>\n",
       "      <td>7:51 AM</td>\n",
       "      <td>10:21 AM</td>\n",
       "      <td>应付work</td>\n",
       "      <td>150</td>\n",
       "      <td>Homework</td>\n",
       "      <td>2021-11</td>\n",
       "      <td>2021</td>\n",
       "      <td>Friday</td>\n",
       "      <td>School</td>\n",
       "    </tr>\n",
       "    <tr>\n",
       "      <th>4</th>\n",
       "      <td>2021-11-05</td>\n",
       "      <td>10:21 AM</td>\n",
       "      <td>11:12 AM</td>\n",
       "      <td>应付work</td>\n",
       "      <td>51</td>\n",
       "      <td>Homework</td>\n",
       "      <td>2021-11</td>\n",
       "      <td>2021</td>\n",
       "      <td>Friday</td>\n",
       "      <td>School</td>\n",
       "    </tr>\n",
       "    <tr>\n",
       "      <th>5</th>\n",
       "      <td>2021-11-05</td>\n",
       "      <td>4:00 PM</td>\n",
       "      <td>5:25 PM</td>\n",
       "      <td>民族志汇报准备</td>\n",
       "      <td>85</td>\n",
       "      <td>Thesis</td>\n",
       "      <td>2021-11</td>\n",
       "      <td>2021</td>\n",
       "      <td>Friday</td>\n",
       "      <td>Research</td>\n",
       "    </tr>\n",
       "    <tr>\n",
       "      <th>6</th>\n",
       "      <td>2021-11-06</td>\n",
       "      <td>10:00 AM</td>\n",
       "      <td>11:00 AM</td>\n",
       "      <td>阅读做题和改错</td>\n",
       "      <td>60</td>\n",
       "      <td>Application Exam Prepare</td>\n",
       "      <td>2021-11</td>\n",
       "      <td>2021</td>\n",
       "      <td>Saturday</td>\n",
       "      <td>Application</td>\n",
       "    </tr>\n",
       "    <tr>\n",
       "      <th>7</th>\n",
       "      <td>2021-11-06</td>\n",
       "      <td>10:08 AM</td>\n",
       "      <td>4:08 PM</td>\n",
       "      <td>风景区底图</td>\n",
       "      <td>360</td>\n",
       "      <td>Homework</td>\n",
       "      <td>2021-11</td>\n",
       "      <td>2021</td>\n",
       "      <td>Saturday</td>\n",
       "      <td>School</td>\n",
       "    </tr>\n",
       "    <tr>\n",
       "      <th>8</th>\n",
       "      <td>2021-11-06</td>\n",
       "      <td>8:17 PM</td>\n",
       "      <td>8:25 PM</td>\n",
       "      <td>NaN</td>\n",
       "      <td>8</td>\n",
       "      <td>Homework</td>\n",
       "      <td>2021-11</td>\n",
       "      <td>2021</td>\n",
       "      <td>Saturday</td>\n",
       "      <td>School</td>\n",
       "    </tr>\n",
       "    <tr>\n",
       "      <th>9</th>\n",
       "      <td>2021-11-07</td>\n",
       "      <td>10:40 AM</td>\n",
       "      <td>12:20 PM</td>\n",
       "      <td>应付风景区</td>\n",
       "      <td>100</td>\n",
       "      <td>Homework</td>\n",
       "      <td>2021-11</td>\n",
       "      <td>2021</td>\n",
       "      <td>Sunday</td>\n",
       "      <td>School</td>\n",
       "    </tr>\n",
       "  </tbody>\n",
       "</table>\n",
       "</div>"
      ],
      "text/plain": [
       "         Day     Start       End Work unit description  Duration   \n",
       "0 2021-11-03  10:23 AM  11:23 AM                托福阅读改错        60  \\\n",
       "1 2021-11-04  12:47 PM   1:11 PM            应付workshop        24   \n",
       "2 2021-11-04   1:28 PM  10:52 PM            应付workshop       455   \n",
       "3 2021-11-05   7:51 AM  10:21 AM                应付work       150   \n",
       "4 2021-11-05  10:21 AM  11:12 AM                应付work        51   \n",
       "5 2021-11-05   4:00 PM   5:25 PM               民族志汇报准备        85   \n",
       "6 2021-11-06  10:00 AM  11:00 AM               阅读做题和改错        60   \n",
       "7 2021-11-06  10:08 AM   4:08 PM                 风景区底图       360   \n",
       "8 2021-11-06   8:17 PM   8:25 PM                   NaN         8   \n",
       "9 2021-11-07  10:40 AM  12:20 PM                 应付风景区       100   \n",
       "\n",
       "                       Task    Month  Year    Weekday Task Category  \n",
       "0  Application Exam Prepare  2021-11  2021  Wednesday   Application  \n",
       "1                  Homework  2021-11  2021   Thursday        School  \n",
       "2                  Homework  2021-11  2021   Thursday        School  \n",
       "3                  Homework  2021-11  2021     Friday        School  \n",
       "4                  Homework  2021-11  2021     Friday        School  \n",
       "5                    Thesis  2021-11  2021     Friday      Research  \n",
       "6  Application Exam Prepare  2021-11  2021   Saturday   Application  \n",
       "7                  Homework  2021-11  2021   Saturday        School  \n",
       "8                  Homework  2021-11  2021   Saturday        School  \n",
       "9                  Homework  2021-11  2021     Sunday        School  "
      ]
     },
     "execution_count": 29,
     "metadata": {},
     "output_type": "execute_result"
    }
   ],
   "source": [
    "df.head(10)"
   ]
  }
 ],
 "metadata": {
  "kernelspec": {
   "display_name": "valediction",
   "language": "python",
   "name": "python3"
  },
  "language_info": {
   "codemirror_mode": {
    "name": "ipython",
    "version": 3
   },
   "file_extension": ".py",
   "mimetype": "text/x-python",
   "name": "python",
   "nbconvert_exporter": "python",
   "pygments_lexer": "ipython3",
   "version": "3.10.8"
  }
 },
 "nbformat": 4,
 "nbformat_minor": 2
}
